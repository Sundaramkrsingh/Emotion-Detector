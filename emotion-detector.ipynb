{
 "cells": [
  {
   "cell_type": "code",
   "execution_count": 75,
   "id": "433893d8",
   "metadata": {},
   "outputs": [],
   "source": [
    "import pandas as pd\n",
    "import numpy as np"
   ]
  },
  {
   "cell_type": "markdown",
   "id": "a5b612e7",
   "metadata": {},
   "source": [
    "### Data Loading"
   ]
  },
  {
   "cell_type": "code",
   "execution_count": 76,
   "id": "5240d0f1",
   "metadata": {},
   "outputs": [
    {
     "name": "stdout",
     "output_type": "stream",
     "text": [
      "                                                text  emotion\n",
      "0                            i didnt feel humiliated  sadness\n",
      "1  i can go from feeling so hopeless to so damned...  sadness\n",
      "2   im grabbing a minute to post i feel greedy wrong    anger\n",
      "3  i am ever feeling nostalgic about the fireplac...     love\n",
      "4                               i am feeling grouchy    anger\n",
      "emotion\n",
      "joy         6066\n",
      "sadness     5216\n",
      "anger       2434\n",
      "fear        2149\n",
      "love        1482\n",
      "surprise     653\n",
      "Name: count, dtype: int64\n"
     ]
    }
   ],
   "source": [
    "def load_data(file_path):\n",
    "    texts, labels = [], []\n",
    "\n",
    "    with open(file_path, \"r\") as f:\n",
    "        for line in f:\n",
    "            if \";\" in line:\n",
    "                text, label = line.strip().split(';')\n",
    "                texts.append(text)\n",
    "                labels.append(label)\n",
    "        return texts, labels\n",
    "\n",
    "# test and validation data\n",
    "X_train1, y_train1 = load_data(\"./dataset/train.txt\")\n",
    "X_val, y_val = load_data(\"./dataset/val.txt\")\n",
    "\n",
    "# test data\n",
    "X_test, y_test = load_data(\"./dataset/test.txt\")\n",
    "\n",
    "df_train = pd.DataFrame({\n",
    "    'text': X_train1 + X_val,\n",
    "    'emotion': y_train1 + y_val\n",
    "})\n",
    "\n",
    "df_test = pd.DataFrame({\n",
    "    'text': X_test,\n",
    "    'emotion': y_test\n",
    "})\n",
    "\n",
    "print(df_train.head())\n",
    "print(df_train['emotion'].value_counts())"
   ]
  },
  {
   "cell_type": "markdown",
   "id": "a9af3557",
   "metadata": {},
   "source": [
    "## Preprocessing\n",
    "#### lowering case, removing stop words "
   ]
  },
  {
   "cell_type": "code",
   "execution_count": 77,
   "id": "8c04a63b",
   "metadata": {},
   "outputs": [
    {
     "name": "stderr",
     "output_type": "stream",
     "text": [
      "[nltk_data] Downloading package stopwords to\n",
      "[nltk_data]     C:\\Users\\sunda\\AppData\\Roaming\\nltk_data...\n",
      "[nltk_data]   Package stopwords is already up-to-date!\n"
     ]
    }
   ],
   "source": [
    "import nltk \n",
    "from nltk.corpus import stopwords\n",
    "nltk.download('stopwords')\n",
    "\n",
    "stopwords = set(stopwords.words('english'))\n",
    "\n",
    "def preprocess(text):\n",
    "    text = text.lower().split()\n",
    "    filtered = [word for word in text if word not in stopwords]\n",
    "    return \" \".join(filtered)\n",
    "\n",
    "df_train['cleaned_text'] = df_train['text'].apply(preprocess)\n",
    "df_test['cleaned_text'] = df_test['text'].apply(preprocess)"
   ]
  },
  {
   "cell_type": "markdown",
   "id": "2b5a6ad8",
   "metadata": {},
   "source": [
    "#### Vectorizing and Label Enconding"
   ]
  },
  {
   "cell_type": "code",
   "execution_count": 78,
   "id": "57a9c84f",
   "metadata": {},
   "outputs": [
    {
     "name": "stdout",
     "output_type": "stream",
     "text": [
      "(18000, 121798)\n",
      "[4 4 0 3 0 4 5 1 2 3]\n"
     ]
    }
   ],
   "source": [
    "from sklearn.feature_extraction.text import TfidfVectorizer\n",
    "from sklearn.preprocessing import LabelEncoder\n",
    "\n",
    "tfidf = TfidfVectorizer(ngram_range=(1, 2))\n",
    "X_train = tfidf.fit_transform(df_train['cleaned_text'])\n",
    "X_test = tfidf.transform(df_test['cleaned_text'])\n",
    "\n",
    "le = LabelEncoder()\n",
    "y_train = le.fit_transform(df_train['emotion'])\n",
    "y_test = le.transform(df_test['emotion'])\n",
    "\n",
    "print(X_train.shape)\n",
    "print(y_train[:10])"
   ]
  },
  {
   "cell_type": "markdown",
   "id": "1fdf6967",
   "metadata": {},
   "source": [
    "## Logistic Regression"
   ]
  },
  {
   "cell_type": "code",
   "execution_count": 79,
   "id": "dabe3b1b",
   "metadata": {},
   "outputs": [
    {
     "name": "stdout",
     "output_type": "stream",
     "text": [
      "Accuracy:  0.883\n",
      "              precision    recall  f1-score   support\n",
      "\n",
      "           0       0.89      0.89      0.89       275\n",
      "           1       0.88      0.82      0.85       224\n",
      "           2       0.94      0.88      0.91       695\n",
      "           3       0.68      0.89      0.77       159\n",
      "           4       0.95      0.90      0.93       581\n",
      "           5       0.58      0.89      0.70        66\n",
      "\n",
      "    accuracy                           0.88      2000\n",
      "   macro avg       0.82      0.88      0.84      2000\n",
      "weighted avg       0.90      0.88      0.89      2000\n",
      "\n"
     ]
    }
   ],
   "source": [
    "from sklearn.linear_model import LogisticRegression\n",
    "from sklearn.metrics import classification_report, accuracy_score \n",
    "\n",
    "lr = LogisticRegression(class_weight='balanced', max_iter=1000)\n",
    "lr.fit(X_train, y_train)\n",
    "\n",
    "y_pred = lr.predict(X_test)\n",
    "\n",
    "print(\"Accuracy: \", accuracy_score(y_test, y_pred))\n",
    "print(classification_report(y_test, y_pred))"
   ]
  },
  {
   "cell_type": "code",
   "execution_count": 80,
   "id": "462cd603",
   "metadata": {},
   "outputs": [
    {
     "data": {
      "image/png": "[encoded data removed]",
      "text/plain": [
       "<Figure size 640x480 with 2 Axes>"
      ]
     },
     "metadata": {},
     "output_type": "display_data"
    }
   ],
   "source": [
    "from sklearn.metrics import confusion_matrix\n",
    "import seaborn as sns\n",
    "import matplotlib.pyplot as plt\n",
    "\n",
    "cm = confusion_matrix(y_test, y_pred)\n",
    "sns.heatmap(cm, annot=True, fmt='d', cmap='Blues')\n",
    "plt.show()"
   ]
  },
  {
   "cell_type": "code",
   "execution_count": 81,
   "id": "f22ae227",
   "metadata": {},
   "outputs": [
    {
     "name": "stdout",
     "output_type": "stream",
     "text": [
      "Accuracy:  0.6705\n",
      "              precision    recall  f1-score   support\n",
      "\n",
      "           0       0.92      0.21      0.35       275\n",
      "           1       0.91      0.23      0.37       224\n",
      "           2       0.61      0.99      0.76       695\n",
      "           3       1.00      0.04      0.07       159\n",
      "           4       0.72      0.92      0.81       581\n",
      "           5       0.00      0.00      0.00        66\n",
      "\n",
      "    accuracy                           0.67      2000\n",
      "   macro avg       0.69      0.40      0.39      2000\n",
      "weighted avg       0.73      0.67      0.59      2000\n",
      "\n"
     ]
    },
    {
     "name": "stderr",
     "output_type": "stream",
     "text": [
      "c:\\Users\\sunda\\Machine Learning\\Projects\\emotion-detector\\emotion-venv\\lib\\site-packages\\sklearn\\metrics\\_classification.py:1565: UndefinedMetricWarning: Precision is ill-defined and being set to 0.0 in labels with no predicted samples. Use `zero_division` parameter to control this behavior.\n",
      "  _warn_prf(average, modifier, f\"{metric.capitalize()} is\", len(result))\n",
      "c:\\Users\\sunda\\Machine Learning\\Projects\\emotion-detector\\emotion-venv\\lib\\site-packages\\sklearn\\metrics\\_classification.py:1565: UndefinedMetricWarning: Precision is ill-defined and being set to 0.0 in labels with no predicted samples. Use `zero_division` parameter to control this behavior.\n",
      "  _warn_prf(average, modifier, f\"{metric.capitalize()} is\", len(result))\n",
      "c:\\Users\\sunda\\Machine Learning\\Projects\\emotion-detector\\emotion-venv\\lib\\site-packages\\sklearn\\metrics\\_classification.py:1565: UndefinedMetricWarning: Precision is ill-defined and being set to 0.0 in labels with no predicted samples. Use `zero_division` parameter to control this behavior.\n",
      "  _warn_prf(average, modifier, f\"{metric.capitalize()} is\", len(result))\n"
     ]
    }
   ],
   "source": [
    "from sklearn.naive_bayes import MultinomialNB\n",
    "\n",
    "nb = MultinomialNB()\n",
    "\n",
    "nb.fit(X_train, y_train)\n",
    "\n",
    "y_pred = nb.predict(X_test)\n",
    "\n",
    "print(\"Accuracy: \", accuracy_score(y_test, y_pred))\n",
    "print(classification_report(y_test, y_pred))"
   ]
  },
  {
   "cell_type": "code",
   "execution_count": 82,
   "id": "eb9ff662",
   "metadata": {},
   "outputs": [],
   "source": [
    "import pickle\n",
    "\n",
    "with open(\"vectorizer.pkl\", \"wb\") as f:\n",
    "    pickle.dump(tfidf, f)\n",
    "\n",
    "with open(\"model.pkl\", \"wb\") as f:\n",
    "    pickle.dump(lr, f)\n",
    "\n",
    "with open(\"label_encoder.pkl\", \"wb\") as f:\n",
    "    pickle.dump(le, f)"
   ]
  }
 ],
 "metadata": {
  "kernelspec": {
   "display_name": "emotion-venv",
   "language": "python",
   "name": "python3"
  },
  "language_info": {
   "codemirror_mode": {
    "name": "ipython",
    "version": 3
   },
   "file_extension": ".py",
   "mimetype": "text/x-python",
   "name": "python",
   "nbconvert_exporter": "python",
   "pygments_lexer": "ipython3",
   "version": "3.10.0"
  }
 },
 "nbformat": 4,
 "nbformat_minor": 5
}
